{
 "cells": [
  {
   "cell_type": "markdown",
   "metadata": {},
   "source": [
    "# Element 1 - INGT1001 eksamen"
   ]
  },
  {
   "cell_type": "markdown",
   "metadata": {},
   "source": [
    " "
   ]
  },
  {
   "cell_type": "markdown",
   "metadata": {},
   "source": [
    "## Problemstilling"
   ]
  },
  {
   "cell_type": "markdown",
   "metadata": {},
   "source": [
    "Dette gruppearbeidet startet med at gruppa drøftet frem og tilbake rundt hva vi ønskte å jobbe med. \n",
    "Vi ble raskt enig om at vi ønskte en problemstilling som kunne brukes til å samle inn data som kunne ses på som nyttig.  \n",
    "\n",
    "Vi landet etterhvert på at vi ønskte å se på hvilken informasjon vi kunne hente ut fra en heis ved hjelp av de sensorene som er bygd inn i sensehat. Dette utgangspunktet ledet frem til flere mindre spørsmål vi håpte målingene våre kunne si noe om.\n",
    "\n",
    "Heiser er noe de aller fleste som har sitt daglige virke på Gløshaugen benytter seg av opp til flere ganger daglig, og vi tenkte at spesielt med tanke på koronapandemien kunne det være interessant å se litt på tall fra dette avgrensede området. \n",
    "\n",
    "Vi valgte å gjøre målingene våre i en av heisene i Realfagsbygget. Dette er an av de travleste plassene på Gløshaugen og at heisen beveger seg over ni etasjer tenkte vi ville være morsomt med tanke på dataanalysen. Heisen hadde og en naturlig plass å legge raspberryen for datainnsamlingen slik at den ikke ble i veien for noen, og var ute av syne. \n"
   ]
  },
  {
   "cell_type": "markdown",
   "metadata": {},
   "source": [
    "### Problemene"
   ]
  },
  {
   "cell_type": "markdown",
   "metadata": {},
   "source": [
    "De to problemene vi ønskte å undersøke ble som følger: \n",
    "\n",
    "- Hvilken etasje befinner heisen seg mest i? \n",
    "- Kan vi se endringer i klimaet i heisen når det er mennesker i heisen (e.g. Når heisen beveger seg). \n"
   ]
  },
  {
   "cell_type": "code",
   "execution_count": null,
   "metadata": {},
   "outputs": [],
   "source": []
  },
  {
   "cell_type": "markdown",
   "metadata": {},
   "source": [
    "## Presentasjon av kode"
   ]
  },
  {
   "cell_type": "markdown",
   "metadata": {},
   "source": [
    "Koden vår er i hovedsak delt opp i to segmenter. Den første delen etablerer alle funksjonene som brukes for å hente data, samt formatere  informasjonen til et hensiktsmessig format for videre arbeid. Etter funksjonene er etablert kommer delen av koden hvor funksjonene kjøres i en while-True-løkke som både kaller på funksjonene og skriver funksjonsverdiene til en logfil. "
   ]
  },
  {
   "cell_type": "markdown",
   "metadata": {},
   "source": [
    "Totalt skrev vi 9 funksjoner i koden vår. Fem av funksjonene gjør målinger med omgivelsessensorene til Sensehat. Èn av funksjonene henter IMU verdier fra sensehat. To funksjoner ble skrevet for å hente CPU temperatur, samt forsøke å korrigere for feil i temperaturmålingene, men disse endte vi med å ikke bruke. Vi skrev også en funksjon for å skrive data til en csv fil og en for å vise tekst på sensehat. Sistnevnte ble i hovedsak brukt til feilsøking, men ligger fortsatt i kodefila. "
   ]
  },
  {
   "cell_type": "markdown",
   "metadata": {},
   "source": [
    "#### Demonstrasjon av funksjon for måling"
   ]
  },
  {
   "cell_type": "markdown",
   "metadata": {},
   "source": [
    "from sense_hat import SenseHat\n",
    "sh = SenseHat()\n",
    "\n",
    "def temp_hum():\n",
    "  \"\"\" Gets temperature from humidity sensor. returns average from A number of measurements\"\"\"\n",
    "  A = 5\n",
    "  temp_sum = 0\n",
    "  for _ in range (0, A):\n",
    "    t = sh.get_temperature_from_humidity()  \n",
    "    temp_sum += t\n",
    "    sleep(0.05)\n",
    "  temp_sum = temp_sum / A\n",
    "  return (temp_sum)"
   ]
  },
  {
   "cell_type": "markdown",
   "metadata": {},
   "source": [
    "Koden over illustrerer hvordan vi samlet inn data. Samme type funksjon ble benyttet for alle sensormålingene. \n",
    "Vi valgte å gjøre A antall målinger for så å returnere gjennomsnittet av disse hver gang funksjonen ble kalt på. Dette var for å minimere antall feilmålinger som kunne dukke opp i datasettet vårt. A-verdi og sleep() tid ble justert frem og tilbake slik at tiden scriptet brukte på å kjøre alle funksjonene ikke ble for lang i forhold til hvor ofte vi ønskte å gjøre målinger. Loggetid bla ca annenhvert sekund. Det føltes naturlig å skulle ha så ofte logging for å få med så mye endringer som mulig fra heisen. "
   ]
  },
  {
   "cell_type": "markdown",
   "metadata": {},
   "source": [
    "#### Demonstrasjon av funksjon for logging"
   ]
  },
  {
   "cell_type": "code",
   "execution_count": 11,
   "metadata": {},
   "outputs": [],
   "source": [
    "def write(temp_hum, temp_pres, hum, pres, accel):\n",
    "  \"\"\" Takes six values and saves it to a .csv file with date and timestamp\"\"\"\n",
    "  date = dt.now().strftime(\"%d/%m/%Y\")\n",
    "  time = dt.now().strftime(\"%H:%M:%S\")\n",
    "  data = [(date), (time), (temp_hum), (temp_pres), (hum), (pres), (accel) ]\n",
    "  desired_path = '/home/bendin/'\n",
    "  file_path = os.path.join(desired_path, \"Maalinger.csv\")\n",
    "  with open(file_path, \"a\") as csvfile:\n",
    "    csvwriter = csv.writer(csvfile)\n",
    "    csvwriter.writerow(data)\n",
    "    return (csvfile)"
   ]
  },
  {
   "cell_type": "markdown",
   "metadata": {},
   "source": [
    "Over vises koden vi brukte for å logge innsamlet data til en csv fil for senere behandling. I denne versjonen benyttet vi navnene for de verdiene som skulle lagres i stedenfor a, b, c, etc. Generiske variabelnavn ville trolig vært lurere dersom koden skulle blitt anvendt til forskjellige bruksområder, men vi følte det var like hensiktsmessig å ha de faktiske navnene der. I hovedsak bare for å holde styr på hvilke verdier som ble lagret hvor. Koden kan absolutt brukes til å lagre andre typer date i en .csv fil ved senere anledninger. "
   ]
  },
  {
   "cell_type": "markdown",
   "metadata": {},
   "source": [
    "Dersom vi skulle gjort noe på nytt hadde det trolig vært lurt å finne en måte å redusere antall funksjoner på.\n",
    "Om vi hadde fått til en funksjon som hadde tatt inn en verdi for hvilken sensor den skulle logge fra hadde vi kunnet redusert antall funksjoner ganske drastisk. Om dette ville vært hensiktsmessig bruk av tid eller ikke er litt vanskelig å svare på i ettertid. "
   ]
  },
  {
   "cell_type": "markdown",
   "metadata": {},
   "source": [
    "### Oppsett av Systemd"
   ]
  },
  {
   "cell_type": "markdown",
   "metadata": {},
   "source": [
    "Hvordan ble det gjort? "
   ]
  },
  {
   "cell_type": "code",
   "execution_count": null,
   "metadata": {},
   "outputs": [],
   "source": []
  },
  {
   "cell_type": "code",
   "execution_count": null,
   "metadata": {},
   "outputs": [],
   "source": []
  },
  {
   "cell_type": "code",
   "execution_count": null,
   "metadata": {},
   "outputs": [],
   "source": []
  },
  {
   "cell_type": "markdown",
   "metadata": {},
   "source": [
    "### Presentasjon av data"
   ]
  },
  {
   "cell_type": "markdown",
   "metadata": {},
   "source": [
    "Hvordan analyserte vi? \n",
    "Hva fant vi? \n"
   ]
  },
  {
   "cell_type": "code",
   "execution_count": null,
   "metadata": {},
   "outputs": [],
   "source": []
  },
  {
   "cell_type": "code",
   "execution_count": null,
   "metadata": {},
   "outputs": [],
   "source": []
  },
  {
   "cell_type": "markdown",
   "metadata": {},
   "source": [
    "### Resultater / Avslutning"
   ]
  },
  {
   "cell_type": "markdown",
   "metadata": {},
   "source": [
    "Stemmer dette med problemstillingen? \n",
    "Oppsumering av arbeid"
   ]
  },
  {
   "cell_type": "code",
   "execution_count": null,
   "metadata": {},
   "outputs": [],
   "source": []
  },
  {
   "cell_type": "markdown",
   "metadata": {},
   "source": [
    "## Feilkilder"
   ]
  },
  {
   "cell_type": "markdown",
   "metadata": {},
   "source": [
    "I ett arbeid som dette er det naturligvis mange feilkilder som duker opp. Alt fra trøbbel med målinger til feil i analysearbeidet. \n",
    "\n",
    "tt konkret problem som dukket opp når vi skulle analysere dataen var at vi ikke hadde tatt høyde for at lufttrykket er forskjellig fra dag til dag. Vi så opprinnelig for oss at å ha ett sett med baseline-målinger for hver etasje kunne brukes til å si noen om hvilken etasje heisen befant seg i for alle målingene våre. Med tanke på at lufttrykket endrer seg fra dag til dag skjønte vi etter hvert at dette ikke kom til å fungere. Vi gikk dermed for en kompromissløsning der vi delte opp diferansen mellom min- og maxmålingene opp i ni deler. En for hver etasje for å prøve å estimere ca hvilken etasje heisen befant seg i. \n",
    "\n",
    "Temperaturmålingene våre endte med å ikke kunne fortelle oss noe som hellst om klimaet i heisen. På grunn av merkelig kontruksjon påvirkes begge temperatursensorene til sensehat av CPU temperaturen til raspberryen. I tillegg plasserte vi raspberryen like ved ei lampe i heisen, noe som videre gjorde temperaturmålingene ubrukelige. "
   ]
  },
  {
   "cell_type": "code",
   "execution_count": null,
   "metadata": {},
   "outputs": [],
   "source": []
  },
  {
   "cell_type": "code",
   "execution_count": null,
   "metadata": {},
   "outputs": [],
   "source": []
  },
  {
   "cell_type": "code",
   "execution_count": null,
   "metadata": {},
   "outputs": [],
   "source": []
  }
 ],
 "metadata": {
  "kernelspec": {
   "display_name": "Python 3",
   "language": "python",
   "name": "python3"
  },
  "language_info": {
   "codemirror_mode": {
    "name": "ipython",
    "version": 3
   },
   "file_extension": ".py",
   "mimetype": "text/x-python",
   "name": "python",
   "nbconvert_exporter": "python",
   "pygments_lexer": "ipython3",
   "version": "3.8.3"
  }
 },
 "nbformat": 4,
 "nbformat_minor": 4
}
