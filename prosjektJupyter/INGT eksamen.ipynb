{
 "cells": [
  {
   "cell_type": "markdown",
   "metadata": {},
   "source": [
    "# Element 1 - INGT1001 eksamen"
   ]
  },
  {
   "cell_type": "markdown",
   "metadata": {},
   "source": []
  },
  {
   "cell_type": "markdown",
   "metadata": {},
   "source": [
    "### Problemstilling"
   ]
  },
  {
   "cell_type": "code",
   "execution_count": null,
   "metadata": {},
   "outputs": [],
   "source": [
    "I dette arbeidet ønskte vi som gruppe å analysere data innsamlet i en heis. \n",
    "Vi hadde en ide om at vi kunne bruke sensorene til sensehat "
   ]
  },
  {
   "cell_type": "markdown",
   "metadata": {},
   "source": [
    "Hvilken etasje står heisen mest i? \n",
    "Endrer luftfuktighet seg når det er folk i heisen? e.g. heisen beveger seg? \n",
    "Noen spennende korrelasjoner? \n"
   ]
  },
  {
   "cell_type": "code",
   "execution_count": null,
   "metadata": {},
   "outputs": [],
   "source": []
  },
  {
   "cell_type": "code",
   "execution_count": null,
   "metadata": {},
   "outputs": [],
   "source": []
  },
  {
   "cell_type": "markdown",
   "metadata": {},
   "source": [
    "### Presentasjon av kode"
   ]
  },
  {
   "cell_type": "markdown",
   "metadata": {},
   "source": [
    "Koden vi bruker er i hovedsak delt opp i to segmenter. Den første delen etablerer alle funksjonene som brukes for å hente data, samt formatere de til det formatet vi følte var mest hensiktsmessig. Etter funksjonene er etablert kommer delen av koden hvor funksjonene kjøres i en while-True -løkke som både kaller på funksjonene og skriver funksjonsverdiene til en logfil. "
   ]
  },
  {
   "cell_type": "markdown",
   "metadata": {},
   "source": [
    "Totalt skrev vi 9 funksjoner i koden vår. fem av funksjonene gjorde målinger med omgivelsessensorene til Sensehat. Èn av funksjonene hentet IMU verdier fra sensehat. To funksjoner ble skrevet for å hente CPU temperatur, samt forsøke å korrigere feil i temperaturmålingene. Disse ble ikke brukt. Vi skrev også en funksjon for å skrive data til en csv fil og en for å vise teskt på sensehat. Sistnevnte ble i hovedsak brukt til feilsøking. "
   ]
  },
  {
   "cell_type": "code",
   "execution_count": null,
   "metadata": {},
   "outputs": [],
   "source": []
  },
  {
   "cell_type": "code",
   "execution_count": null,
   "metadata": {},
   "outputs": [],
   "source": [
    "I etterkant av datainnsamlingen innså vi at vi trolig kunne ha spart oss en del av funksjonene vi skrev. \n",
    "I hovedsak mtp. temperatur trykk og luftfuktighetsmålingene. Disse kunne trolig blitt skrevet som en funksjon. "
   ]
  },
  {
   "cell_type": "markdown",
   "metadata": {},
   "source": [
    "### Oppsett av Systemd"
   ]
  },
  {
   "cell_type": "markdown",
   "metadata": {},
   "source": [
    "Hvordan ble det gjort? "
   ]
  },
  {
   "cell_type": "code",
   "execution_count": null,
   "metadata": {},
   "outputs": [],
   "source": []
  },
  {
   "cell_type": "code",
   "execution_count": null,
   "metadata": {},
   "outputs": [],
   "source": []
  },
  {
   "cell_type": "code",
   "execution_count": null,
   "metadata": {},
   "outputs": [],
   "source": []
  },
  {
   "cell_type": "markdown",
   "metadata": {},
   "source": [
    "### Presentasjon av data"
   ]
  },
  {
   "cell_type": "markdown",
   "metadata": {},
   "source": [
    "Hvordan analyserte vi? \n",
    "Hva fant vi? \n"
   ]
  },
  {
   "cell_type": "code",
   "execution_count": null,
   "metadata": {},
   "outputs": [],
   "source": []
  },
  {
   "cell_type": "code",
   "execution_count": null,
   "metadata": {},
   "outputs": [],
   "source": []
  },
  {
   "cell_type": "markdown",
   "metadata": {},
   "source": [
    "### Resultater / Avslutning"
   ]
  },
  {
   "cell_type": "markdown",
   "metadata": {},
   "source": [
    "Stemmer dette med problemstillingen? \n",
    "Oppsumering av arbeid"
   ]
  },
  {
   "cell_type": "code",
   "execution_count": null,
   "metadata": {},
   "outputs": [],
   "source": []
  },
  {
   "cell_type": "code",
   "execution_count": null,
   "metadata": {},
   "outputs": [],
   "source": []
  }
 ],
 "metadata": {
  "kernelspec": {
   "display_name": "Python 3",
   "language": "python",
   "name": "python3"
  },
  "language_info": {
   "codemirror_mode": {
    "name": "ipython",
    "version": 3
   },
   "file_extension": ".py",
   "mimetype": "text/x-python",
   "name": "python",
   "nbconvert_exporter": "python",
   "pygments_lexer": "ipython3",
   "version": "3.8.3"
  }
 },
 "nbformat": 4,
 "nbformat_minor": 4
}
