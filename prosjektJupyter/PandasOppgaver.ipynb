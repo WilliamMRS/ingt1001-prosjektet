{
 "cells": [
  {
   "cell_type": "code",
   "execution_count": 1,
   "metadata": {},
   "outputs": [],
   "source": [
    "from Element2_Pandas import*"
   ]
  },
  {
   "cell_type": "markdown",
   "metadata": {},
   "source": [
    "# Oppgaver"
   ]
  },
  {
   "cell_type": "markdown",
   "metadata": {},
   "source": [
    "# Oppgave 1:\n",
    "Har importert filen 2342202.csv i python-filen og kalt den for \"df_opg1\""
   ]
  },
  {
   "cell_type": "markdown",
   "metadata": {},
   "source": [
    "# Oppgave 2:"
   ]
  },
  {
   "cell_type": "markdown",
   "metadata": {},
   "source": [
    "Vi ser at dataen er organisert i 92099 rader og fire kolonner: Station, Name, Date og TAVG.\n",
    "Datasettet består av datatypene \"object\" og \"float64\" hvor TAVG består av \"float64\"-verdier og resten er \"object\".\n",
    "\n",
    "NB! Legger også merke til at i TAVG kolonnen så finnes det bare 7606 rader som ikke er null-verdier."
   ]
  },
  {
   "cell_type": "code",
   "execution_count": 2,
   "metadata": {},
   "outputs": [
    {
     "data": {
      "text/html": [
       "<div>\n",
       "<style scoped>\n",
       "    .dataframe tbody tr th:only-of-type {\n",
       "        vertical-align: middle;\n",
       "    }\n",
       "\n",
       "    .dataframe tbody tr th {\n",
       "        vertical-align: top;\n",
       "    }\n",
       "\n",
       "    .dataframe thead th {\n",
       "        text-align: right;\n",
       "    }\n",
       "</style>\n",
       "<table border=\"1\" class=\"dataframe\">\n",
       "  <thead>\n",
       "    <tr style=\"text-align: right;\">\n",
       "      <th></th>\n",
       "      <th>STATION</th>\n",
       "      <th>NAME</th>\n",
       "      <th>DATE</th>\n",
       "      <th>TAVG</th>\n",
       "    </tr>\n",
       "  </thead>\n",
       "  <tbody>\n",
       "    <tr>\n",
       "      <th>0</th>\n",
       "      <td>US1NYWC0003</td>\n",
       "      <td>WHITE PLAINS 3.1 NNW, NY US</td>\n",
       "      <td>2017-01-03</td>\n",
       "      <td>NaN</td>\n",
       "    </tr>\n",
       "    <tr>\n",
       "      <th>1</th>\n",
       "      <td>US1NYWC0003</td>\n",
       "      <td>WHITE PLAINS 3.1 NNW, NY US</td>\n",
       "      <td>2017-01-04</td>\n",
       "      <td>NaN</td>\n",
       "    </tr>\n",
       "    <tr>\n",
       "      <th>2</th>\n",
       "      <td>US1NYWC0003</td>\n",
       "      <td>WHITE PLAINS 3.1 NNW, NY US</td>\n",
       "      <td>2017-01-05</td>\n",
       "      <td>NaN</td>\n",
       "    </tr>\n",
       "    <tr>\n",
       "      <th>3</th>\n",
       "      <td>US1NYWC0003</td>\n",
       "      <td>WHITE PLAINS 3.1 NNW, NY US</td>\n",
       "      <td>2017-01-06</td>\n",
       "      <td>NaN</td>\n",
       "    </tr>\n",
       "    <tr>\n",
       "      <th>4</th>\n",
       "      <td>US1NYWC0003</td>\n",
       "      <td>WHITE PLAINS 3.1 NNW, NY US</td>\n",
       "      <td>2017-01-09</td>\n",
       "      <td>NaN</td>\n",
       "    </tr>\n",
       "  </tbody>\n",
       "</table>\n",
       "</div>"
      ],
      "text/plain": [
       "       STATION                         NAME        DATE  TAVG\n",
       "0  US1NYWC0003  WHITE PLAINS 3.1 NNW, NY US  2017-01-03   NaN\n",
       "1  US1NYWC0003  WHITE PLAINS 3.1 NNW, NY US  2017-01-04   NaN\n",
       "2  US1NYWC0003  WHITE PLAINS 3.1 NNW, NY US  2017-01-05   NaN\n",
       "3  US1NYWC0003  WHITE PLAINS 3.1 NNW, NY US  2017-01-06   NaN\n",
       "4  US1NYWC0003  WHITE PLAINS 3.1 NNW, NY US  2017-01-09   NaN"
      ]
     },
     "execution_count": 2,
     "metadata": {},
     "output_type": "execute_result"
    }
   ],
   "source": [
    "df_opg1.head()"
   ]
  },
  {
   "cell_type": "code",
   "execution_count": 3,
   "metadata": {},
   "outputs": [
    {
     "name": "stdout",
     "output_type": "stream",
     "text": [
      "<class 'pandas.core.frame.DataFrame'>\n",
      "RangeIndex: 92099 entries, 0 to 92098\n",
      "Data columns (total 4 columns):\n",
      " #   Column   Non-Null Count  Dtype  \n",
      "---  ------   --------------  -----  \n",
      " 0   STATION  92099 non-null  object \n",
      " 1   NAME     92099 non-null  object \n",
      " 2   DATE     92099 non-null  object \n",
      " 3   TAVG     7606 non-null   float64\n",
      "dtypes: float64(1), object(3)\n",
      "memory usage: 2.8+ MB\n"
     ]
    }
   ],
   "source": [
    "df_opg1.info()"
   ]
  },
  {
   "cell_type": "markdown",
   "metadata": {},
   "source": [
    "# oppgave 3:\n",
    "Dropper duplikerte rader og rader med null-verdier vha. \"drop_dup_nan\" funksjonen, og fikser index-verdiene vha. \"fix_index\" funksjonen.\n",
    "\n",
    "Vi ser at det nå er kun 7606 gjenværende rader i df_opg1. Dette er fordi at en stor majoritet av de 92099 radene i TAVG-kolonnen inneholdt null-verdier."
   ]
  },
  {
   "cell_type": "code",
   "execution_count": 4,
   "metadata": {},
   "outputs": [
    {
     "name": "stdout",
     "output_type": "stream",
     "text": [
      "<class 'pandas.core.frame.DataFrame'>\n",
      "RangeIndex: 7606 entries, 0 to 7605\n",
      "Data columns (total 4 columns):\n",
      " #   Column   Non-Null Count  Dtype  \n",
      "---  ------   --------------  -----  \n",
      " 0   STATION  7606 non-null   object \n",
      " 1   NAME     7606 non-null   object \n",
      " 2   DATE     7606 non-null   object \n",
      " 3   TAVG     7606 non-null   float64\n",
      "dtypes: float64(1), object(3)\n",
      "memory usage: 237.8+ KB\n"
     ]
    }
   ],
   "source": [
    "drop_dup_nan(df_opg1)\n",
    "fix_index(df_opg1)\n",
    "df_opg1.info()"
   ]
  },
  {
   "cell_type": "markdown",
   "metadata": {},
   "source": [
    "# Oppgave 4:\n",
    "deler \"NAME\" kolonnen i to kolonner \"Area\" og \"Country\" vha. funksjonen \"split_NAME\" fra spyder-filen.\n",
    "\n",
    "PS! Funksjonen gir feilmelding om at NAME-kolonnen ikke finnes om funksjonen blir kjørt flere ganger, fordi NAME-kolonnen fjernes etter første gang den kjøres.\n",
    "\n"
   ]
  },
  {
   "cell_type": "code",
   "execution_count": 5,
   "metadata": {},
   "outputs": [
    {
     "data": {
      "text/html": [
       "<div>\n",
       "<style scoped>\n",
       "    .dataframe tbody tr th:only-of-type {\n",
       "        vertical-align: middle;\n",
       "    }\n",
       "\n",
       "    .dataframe tbody tr th {\n",
       "        vertical-align: top;\n",
       "    }\n",
       "\n",
       "    .dataframe thead th {\n",
       "        text-align: right;\n",
       "    }\n",
       "</style>\n",
       "<table border=\"1\" class=\"dataframe\">\n",
       "  <thead>\n",
       "    <tr style=\"text-align: right;\">\n",
       "      <th></th>\n",
       "      <th>STATION</th>\n",
       "      <th>DATE</th>\n",
       "      <th>TAVG</th>\n",
       "      <th>AREA</th>\n",
       "      <th>COUNTRY</th>\n",
       "    </tr>\n",
       "  </thead>\n",
       "  <tbody>\n",
       "    <tr>\n",
       "      <th>0</th>\n",
       "      <td>USW00014732</td>\n",
       "      <td>2017-01-01</td>\n",
       "      <td>46.0</td>\n",
       "      <td>LAGUARDIA AIRPORT</td>\n",
       "      <td>NY US</td>\n",
       "    </tr>\n",
       "    <tr>\n",
       "      <th>1</th>\n",
       "      <td>USW00014732</td>\n",
       "      <td>2017-01-02</td>\n",
       "      <td>40.0</td>\n",
       "      <td>LAGUARDIA AIRPORT</td>\n",
       "      <td>NY US</td>\n",
       "    </tr>\n",
       "    <tr>\n",
       "      <th>2</th>\n",
       "      <td>USW00014732</td>\n",
       "      <td>2017-01-03</td>\n",
       "      <td>42.0</td>\n",
       "      <td>LAGUARDIA AIRPORT</td>\n",
       "      <td>NY US</td>\n",
       "    </tr>\n",
       "    <tr>\n",
       "      <th>3</th>\n",
       "      <td>USW00014732</td>\n",
       "      <td>2017-01-04</td>\n",
       "      <td>47.0</td>\n",
       "      <td>LAGUARDIA AIRPORT</td>\n",
       "      <td>NY US</td>\n",
       "    </tr>\n",
       "    <tr>\n",
       "      <th>4</th>\n",
       "      <td>USW00014732</td>\n",
       "      <td>2017-01-05</td>\n",
       "      <td>34.0</td>\n",
       "      <td>LAGUARDIA AIRPORT</td>\n",
       "      <td>NY US</td>\n",
       "    </tr>\n",
       "  </tbody>\n",
       "</table>\n",
       "</div>"
      ],
      "text/plain": [
       "       STATION        DATE  TAVG               AREA COUNTRY\n",
       "0  USW00014732  2017-01-01  46.0  LAGUARDIA AIRPORT   NY US\n",
       "1  USW00014732  2017-01-02  40.0  LAGUARDIA AIRPORT   NY US\n",
       "2  USW00014732  2017-01-03  42.0  LAGUARDIA AIRPORT   NY US\n",
       "3  USW00014732  2017-01-04  47.0  LAGUARDIA AIRPORT   NY US\n",
       "4  USW00014732  2017-01-05  34.0  LAGUARDIA AIRPORT   NY US"
      ]
     },
     "execution_count": 5,
     "metadata": {},
     "output_type": "execute_result"
    }
   ],
   "source": [
    "split_NAME(df_opg1)\n",
    "df_opg1.head()"
   ]
  },
  {
   "cell_type": "markdown",
   "metadata": {},
   "source": [
    "# Oppgave 5:\n",
    "Vi deler COUNTRY-kolonnen i to kolonner CITY og COUNTRY vha. \"split_COUNTRY\" funksjonen "
   ]
  },
  {
   "cell_type": "code",
   "execution_count": 6,
   "metadata": {},
   "outputs": [
    {
     "data": {
      "text/html": [
       "<div>\n",
       "<style scoped>\n",
       "    .dataframe tbody tr th:only-of-type {\n",
       "        vertical-align: middle;\n",
       "    }\n",
       "\n",
       "    .dataframe tbody tr th {\n",
       "        vertical-align: top;\n",
       "    }\n",
       "\n",
       "    .dataframe thead th {\n",
       "        text-align: right;\n",
       "    }\n",
       "</style>\n",
       "<table border=\"1\" class=\"dataframe\">\n",
       "  <thead>\n",
       "    <tr style=\"text-align: right;\">\n",
       "      <th></th>\n",
       "      <th>STATION</th>\n",
       "      <th>DATE</th>\n",
       "      <th>TAVG</th>\n",
       "      <th>AREA</th>\n",
       "      <th>COUNTRY</th>\n",
       "      <th>CITY</th>\n",
       "    </tr>\n",
       "  </thead>\n",
       "  <tbody>\n",
       "    <tr>\n",
       "      <th>0</th>\n",
       "      <td>USW00014732</td>\n",
       "      <td>2017-01-01</td>\n",
       "      <td>46.0</td>\n",
       "      <td>LAGUARDIA AIRPORT</td>\n",
       "      <td>US</td>\n",
       "      <td>NY</td>\n",
       "    </tr>\n",
       "    <tr>\n",
       "      <th>1</th>\n",
       "      <td>USW00014732</td>\n",
       "      <td>2017-01-02</td>\n",
       "      <td>40.0</td>\n",
       "      <td>LAGUARDIA AIRPORT</td>\n",
       "      <td>US</td>\n",
       "      <td>NY</td>\n",
       "    </tr>\n",
       "    <tr>\n",
       "      <th>2</th>\n",
       "      <td>USW00014732</td>\n",
       "      <td>2017-01-03</td>\n",
       "      <td>42.0</td>\n",
       "      <td>LAGUARDIA AIRPORT</td>\n",
       "      <td>US</td>\n",
       "      <td>NY</td>\n",
       "    </tr>\n",
       "    <tr>\n",
       "      <th>3</th>\n",
       "      <td>USW00014732</td>\n",
       "      <td>2017-01-04</td>\n",
       "      <td>47.0</td>\n",
       "      <td>LAGUARDIA AIRPORT</td>\n",
       "      <td>US</td>\n",
       "      <td>NY</td>\n",
       "    </tr>\n",
       "    <tr>\n",
       "      <th>4</th>\n",
       "      <td>USW00014732</td>\n",
       "      <td>2017-01-05</td>\n",
       "      <td>34.0</td>\n",
       "      <td>LAGUARDIA AIRPORT</td>\n",
       "      <td>US</td>\n",
       "      <td>NY</td>\n",
       "    </tr>\n",
       "  </tbody>\n",
       "</table>\n",
       "</div>"
      ],
      "text/plain": [
       "       STATION        DATE  TAVG               AREA COUNTRY CITY\n",
       "0  USW00014732  2017-01-01  46.0  LAGUARDIA AIRPORT      US   NY\n",
       "1  USW00014732  2017-01-02  40.0  LAGUARDIA AIRPORT      US   NY\n",
       "2  USW00014732  2017-01-03  42.0  LAGUARDIA AIRPORT      US   NY\n",
       "3  USW00014732  2017-01-04  47.0  LAGUARDIA AIRPORT      US   NY\n",
       "4  USW00014732  2017-01-05  34.0  LAGUARDIA AIRPORT      US   NY"
      ]
     },
     "execution_count": 6,
     "metadata": {},
     "output_type": "execute_result"
    }
   ],
   "source": [
    "split_COUNTRY(df_opg1)\n",
    "df_opg1.head()"
   ]
  },
  {
   "cell_type": "markdown",
   "metadata": {},
   "source": [
    "# Oppgave 6: \n",
    "Vi har laget en funksjon \"fix_COUNTRY\" for å endre \"COUNTRY\"-kolonnen til landskoder på to bokstaver. I df_opg1 trengs ikke denne fordi vi allerede har gjort \"COUNTRY\"-kolonnen til landskoder på to bokstaver."
   ]
  },
  {
   "cell_type": "markdown",
   "metadata": {},
   "source": [
    "# Oppgave 7:\n",
    "I spyder-filen har vi importert filen \"2342207.csv\", og kalt den for \"df_opg7\". Vi har også definert en funksjon \"trinn_3_4_6\" for å gjøre trinn 3, 4 og 6."
   ]
  },
  {
   "cell_type": "code",
   "execution_count": 7,
   "metadata": {},
   "outputs": [
    {
     "data": {
      "text/html": [
       "<div>\n",
       "<style scoped>\n",
       "    .dataframe tbody tr th:only-of-type {\n",
       "        vertical-align: middle;\n",
       "    }\n",
       "\n",
       "    .dataframe tbody tr th {\n",
       "        vertical-align: top;\n",
       "    }\n",
       "\n",
       "    .dataframe thead th {\n",
       "        text-align: right;\n",
       "    }\n",
       "</style>\n",
       "<table border=\"1\" class=\"dataframe\">\n",
       "  <thead>\n",
       "    <tr style=\"text-align: right;\">\n",
       "      <th></th>\n",
       "      <th>STATION</th>\n",
       "      <th>DATE</th>\n",
       "      <th>TAVG</th>\n",
       "      <th>AREA</th>\n",
       "      <th>COUNTRY</th>\n",
       "    </tr>\n",
       "  </thead>\n",
       "  <tbody>\n",
       "    <tr>\n",
       "      <th>0</th>\n",
       "      <td>FIE00142101</td>\n",
       "      <td>1/1/2017</td>\n",
       "      <td>33.0</td>\n",
       "      <td>HELSINKI ILMALA</td>\n",
       "      <td>FI</td>\n",
       "    </tr>\n",
       "    <tr>\n",
       "      <th>1</th>\n",
       "      <td>FIE00142101</td>\n",
       "      <td>1/2/2017</td>\n",
       "      <td>26.0</td>\n",
       "      <td>HELSINKI ILMALA</td>\n",
       "      <td>FI</td>\n",
       "    </tr>\n",
       "    <tr>\n",
       "      <th>2</th>\n",
       "      <td>FIE00142101</td>\n",
       "      <td>1/3/2017</td>\n",
       "      <td>21.0</td>\n",
       "      <td>HELSINKI ILMALA</td>\n",
       "      <td>FI</td>\n",
       "    </tr>\n",
       "    <tr>\n",
       "      <th>3</th>\n",
       "      <td>FIE00142101</td>\n",
       "      <td>1/4/2017</td>\n",
       "      <td>9.0</td>\n",
       "      <td>HELSINKI ILMALA</td>\n",
       "      <td>FI</td>\n",
       "    </tr>\n",
       "    <tr>\n",
       "      <th>4</th>\n",
       "      <td>FIE00142101</td>\n",
       "      <td>1/5/2017</td>\n",
       "      <td>1.0</td>\n",
       "      <td>HELSINKI ILMALA</td>\n",
       "      <td>FI</td>\n",
       "    </tr>\n",
       "  </tbody>\n",
       "</table>\n",
       "</div>"
      ],
      "text/plain": [
       "       STATION      DATE  TAVG             AREA COUNTRY\n",
       "0  FIE00142101  1/1/2017  33.0  HELSINKI ILMALA      FI\n",
       "1  FIE00142101  1/2/2017  26.0  HELSINKI ILMALA      FI\n",
       "2  FIE00142101  1/3/2017  21.0  HELSINKI ILMALA      FI\n",
       "3  FIE00142101  1/4/2017   9.0  HELSINKI ILMALA      FI\n",
       "4  FIE00142101  1/5/2017   1.0  HELSINKI ILMALA      FI"
      ]
     },
     "execution_count": 7,
     "metadata": {},
     "output_type": "execute_result"
    }
   ],
   "source": [
    "trinn_3_4_6(df_opg7)\n",
    "df_opg7.head()"
   ]
  },
  {
   "cell_type": "markdown",
   "metadata": {},
   "source": [
    "# Oppgave 8:\n",
    "Bruker funksjonen \"combine_dfs\" fra spyder-filen for å sette sammen df_opg1 og df_opg7 til en df_opg8, og for å fikse index-verdiene til den resulterende df-en."
   ]
  },
  {
   "cell_type": "code",
   "execution_count": 8,
   "metadata": {},
   "outputs": [],
   "source": [
    "df_opg8 = combine_dfs(df_opg1, df_opg7)"
   ]
  },
  {
   "cell_type": "code",
   "execution_count": 9,
   "metadata": {},
   "outputs": [
    {
     "data": {
      "text/html": [
       "<div>\n",
       "<style scoped>\n",
       "    .dataframe tbody tr th:only-of-type {\n",
       "        vertical-align: middle;\n",
       "    }\n",
       "\n",
       "    .dataframe tbody tr th {\n",
       "        vertical-align: top;\n",
       "    }\n",
       "\n",
       "    .dataframe thead th {\n",
       "        text-align: right;\n",
       "    }\n",
       "</style>\n",
       "<table border=\"1\" class=\"dataframe\">\n",
       "  <thead>\n",
       "    <tr style=\"text-align: right;\">\n",
       "      <th></th>\n",
       "      <th>STATION</th>\n",
       "      <th>DATE</th>\n",
       "      <th>TAVG</th>\n",
       "      <th>AREA</th>\n",
       "      <th>COUNTRY</th>\n",
       "      <th>CITY</th>\n",
       "    </tr>\n",
       "  </thead>\n",
       "  <tbody>\n",
       "    <tr>\n",
       "      <th>0</th>\n",
       "      <td>USW00014732</td>\n",
       "      <td>2017-01-01</td>\n",
       "      <td>46.0</td>\n",
       "      <td>LAGUARDIA AIRPORT</td>\n",
       "      <td>US</td>\n",
       "      <td>NY</td>\n",
       "    </tr>\n",
       "    <tr>\n",
       "      <th>1</th>\n",
       "      <td>USW00014732</td>\n",
       "      <td>2017-01-02</td>\n",
       "      <td>40.0</td>\n",
       "      <td>LAGUARDIA AIRPORT</td>\n",
       "      <td>US</td>\n",
       "      <td>NY</td>\n",
       "    </tr>\n",
       "    <tr>\n",
       "      <th>2</th>\n",
       "      <td>USW00014732</td>\n",
       "      <td>2017-01-03</td>\n",
       "      <td>42.0</td>\n",
       "      <td>LAGUARDIA AIRPORT</td>\n",
       "      <td>US</td>\n",
       "      <td>NY</td>\n",
       "    </tr>\n",
       "    <tr>\n",
       "      <th>3</th>\n",
       "      <td>USW00014732</td>\n",
       "      <td>2017-01-04</td>\n",
       "      <td>47.0</td>\n",
       "      <td>LAGUARDIA AIRPORT</td>\n",
       "      <td>US</td>\n",
       "      <td>NY</td>\n",
       "    </tr>\n",
       "    <tr>\n",
       "      <th>4</th>\n",
       "      <td>USW00014732</td>\n",
       "      <td>2017-01-05</td>\n",
       "      <td>34.0</td>\n",
       "      <td>LAGUARDIA AIRPORT</td>\n",
       "      <td>US</td>\n",
       "      <td>NY</td>\n",
       "    </tr>\n",
       "  </tbody>\n",
       "</table>\n",
       "</div>"
      ],
      "text/plain": [
       "       STATION        DATE  TAVG               AREA COUNTRY CITY\n",
       "0  USW00014732  2017-01-01  46.0  LAGUARDIA AIRPORT      US   NY\n",
       "1  USW00014732  2017-01-02  40.0  LAGUARDIA AIRPORT      US   NY\n",
       "2  USW00014732  2017-01-03  42.0  LAGUARDIA AIRPORT      US   NY\n",
       "3  USW00014732  2017-01-04  47.0  LAGUARDIA AIRPORT      US   NY\n",
       "4  USW00014732  2017-01-05  34.0  LAGUARDIA AIRPORT      US   NY"
      ]
     },
     "execution_count": 9,
     "metadata": {},
     "output_type": "execute_result"
    }
   ],
   "source": [
    "df_opg8.head()"
   ]
  },
  {
   "cell_type": "markdown",
   "metadata": {},
   "source": [
    "# Oppgave 9:\n",
    "For å kontrollere at df-en fra trinn 8 er riktig kan vi sjekke at lengden på df-en fra trinn 8 er lik summen av lengdene til de to tidligere df-ene som den består av.\n",
    "\n",
    "Dette har vi laget en funksjon for i Spyder-filen kalt \"kontroll\". \n",
    "\n",
    "Funksjonen printer \"Riktig lengde\" om lengden til de to tidligere df-ene samsvarer med lengden på df_opg8."
   ]
  },
  {
   "cell_type": "code",
   "execution_count": 10,
   "metadata": {},
   "outputs": [
    {
     "name": "stdout",
     "output_type": "stream",
     "text": [
      "Riktig lengde\n"
     ]
    }
   ],
   "source": [
    "kontroll(df_opg1, df_opg7, df_opg8)"
   ]
  },
  {
   "cell_type": "markdown",
   "metadata": {},
   "source": [
    "# Oppgave 11:\n",
    "I spyder-filen har vi importert alle filene fra \"weather\"-mappen og lagret dem i en liste kalt \"all_dfs\".\n",
    "\n",
    "Vi har også definert en funksjon \"fix_dfs_in_list\" som kjører trinn 3, 4 og 6 for hver df i en liste.\n"
   ]
  },
  {
   "cell_type": "code",
   "execution_count": 11,
   "metadata": {},
   "outputs": [],
   "source": [
    "fix_dfs_in_list(all_dfs)"
   ]
  },
  {
   "cell_type": "markdown",
   "metadata": {},
   "source": [
    "# Oppgave 12:\n",
    "I spyder-filen har vi importert \"Trondheim.csv\"-filen og kalt den \"df_trondheim\""
   ]
  },
  {
   "cell_type": "code",
   "execution_count": 12,
   "metadata": {},
   "outputs": [],
   "source": [
    "trinn_3_4_6(df_trondheim)"
   ]
  },
  {
   "cell_type": "markdown",
   "metadata": {},
   "source": [
    "#  Oppgave 13:\n",
    "Lager en ny kolonne TAVG som er gjennomsnittet av TMIN og TMAX:\n"
   ]
  },
  {
   "cell_type": "code",
   "execution_count": 13,
   "metadata": {},
   "outputs": [],
   "source": [
    "df_trondheim[\"TAVG\"] = (df_trondheim[\"TMIN\"]+df_trondheim[\"TMAX\"])/2"
   ]
  },
  {
   "cell_type": "markdown",
   "metadata": {},
   "source": [
    "# Oppgave 14:\n",
    "Endrer df_trondheim slik at rekkefølgen er lik rekkefølgen til de andre df-ene, og slik at \"TMIN\" og \"TMAX\" ikke blir med. \n",
    "\n",
    "Dette gjøres vha. definisjonen \"df_make_default\" \n"
   ]
  },
  {
   "cell_type": "code",
   "execution_count": 14,
   "metadata": {},
   "outputs": [],
   "source": [
    "df_trondheim = df_make_default(df_trondheim)\n"
   ]
  },
  {
   "cell_type": "code",
   "execution_count": 15,
   "metadata": {},
   "outputs": [
    {
     "data": {
      "text/html": [
       "<div>\n",
       "<style scoped>\n",
       "    .dataframe tbody tr th:only-of-type {\n",
       "        vertical-align: middle;\n",
       "    }\n",
       "\n",
       "    .dataframe tbody tr th {\n",
       "        vertical-align: top;\n",
       "    }\n",
       "\n",
       "    .dataframe thead th {\n",
       "        text-align: right;\n",
       "    }\n",
       "</style>\n",
       "<table border=\"1\" class=\"dataframe\">\n",
       "  <thead>\n",
       "    <tr style=\"text-align: right;\">\n",
       "      <th></th>\n",
       "      <th>STATION</th>\n",
       "      <th>DATE</th>\n",
       "      <th>TAVG</th>\n",
       "      <th>AREA</th>\n",
       "      <th>COUNTRY</th>\n",
       "    </tr>\n",
       "  </thead>\n",
       "  <tbody>\n",
       "    <tr>\n",
       "      <th>0</th>\n",
       "      <td>NOE00111040</td>\n",
       "      <td>2017-01-01</td>\n",
       "      <td>34.0</td>\n",
       "      <td>TRONDHEIM VOLL</td>\n",
       "      <td>NO</td>\n",
       "    </tr>\n",
       "    <tr>\n",
       "      <th>1</th>\n",
       "      <td>NOE00111040</td>\n",
       "      <td>2017-01-02</td>\n",
       "      <td>30.5</td>\n",
       "      <td>TRONDHEIM VOLL</td>\n",
       "      <td>NO</td>\n",
       "    </tr>\n",
       "    <tr>\n",
       "      <th>2</th>\n",
       "      <td>NOE00111040</td>\n",
       "      <td>2017-01-03</td>\n",
       "      <td>30.5</td>\n",
       "      <td>TRONDHEIM VOLL</td>\n",
       "      <td>NO</td>\n",
       "    </tr>\n",
       "    <tr>\n",
       "      <th>3</th>\n",
       "      <td>NOE00111040</td>\n",
       "      <td>2017-01-04</td>\n",
       "      <td>20.5</td>\n",
       "      <td>TRONDHEIM VOLL</td>\n",
       "      <td>NO</td>\n",
       "    </tr>\n",
       "    <tr>\n",
       "      <th>4</th>\n",
       "      <td>NOE00111040</td>\n",
       "      <td>2017-01-05</td>\n",
       "      <td>14.0</td>\n",
       "      <td>TRONDHEIM VOLL</td>\n",
       "      <td>NO</td>\n",
       "    </tr>\n",
       "  </tbody>\n",
       "</table>\n",
       "</div>"
      ],
      "text/plain": [
       "       STATION        DATE  TAVG            AREA COUNTRY\n",
       "0  NOE00111040  2017-01-01  34.0  TRONDHEIM VOLL      NO\n",
       "1  NOE00111040  2017-01-02  30.5  TRONDHEIM VOLL      NO\n",
       "2  NOE00111040  2017-01-03  30.5  TRONDHEIM VOLL      NO\n",
       "3  NOE00111040  2017-01-04  20.5  TRONDHEIM VOLL      NO\n",
       "4  NOE00111040  2017-01-05  14.0  TRONDHEIM VOLL      NO"
      ]
     },
     "execution_count": 15,
     "metadata": {},
     "output_type": "execute_result"
    }
   ],
   "source": [
    "df_trondheim.head()"
   ]
  },
  {
   "cell_type": "markdown",
   "metadata": {},
   "source": [
    "# Oppgave 15:\n",
    "Skal kombinere alle df-ene til en større df kalt \"df_complete\".\n",
    "Vi har definert en funksjon \"making_of_df_complete\" som kombinerer df-ene fra listen \"all_dfs\" samt \"df_trondheim\" til en df kalt \"df_complete\"."
   ]
  },
  {
   "cell_type": "code",
   "execution_count": 16,
   "metadata": {},
   "outputs": [],
   "source": [
    "df_complete = making_of_df_complete()"
   ]
  },
  {
   "cell_type": "code",
   "execution_count": 17,
   "metadata": {},
   "outputs": [
    {
     "data": {
      "text/html": [
       "<div>\n",
       "<style scoped>\n",
       "    .dataframe tbody tr th:only-of-type {\n",
       "        vertical-align: middle;\n",
       "    }\n",
       "\n",
       "    .dataframe tbody tr th {\n",
       "        vertical-align: top;\n",
       "    }\n",
       "\n",
       "    .dataframe thead th {\n",
       "        text-align: right;\n",
       "    }\n",
       "</style>\n",
       "<table border=\"1\" class=\"dataframe\">\n",
       "  <thead>\n",
       "    <tr style=\"text-align: right;\">\n",
       "      <th></th>\n",
       "      <th>STATION</th>\n",
       "      <th>DATE</th>\n",
       "      <th>TAVG</th>\n",
       "      <th>AREA</th>\n",
       "      <th>COUNTRY</th>\n",
       "      <th>TMAX</th>\n",
       "      <th>TMIN</th>\n",
       "    </tr>\n",
       "  </thead>\n",
       "  <tbody>\n",
       "    <tr>\n",
       "      <th>0</th>\n",
       "      <td>DEW00035032</td>\n",
       "      <td>1/1/2017</td>\n",
       "      <td>26.0</td>\n",
       "      <td>RHIEN MAIN</td>\n",
       "      <td>DE</td>\n",
       "      <td>NaN</td>\n",
       "      <td>NaN</td>\n",
       "    </tr>\n",
       "    <tr>\n",
       "      <th>1</th>\n",
       "      <td>DEW00035032</td>\n",
       "      <td>1/2/2017</td>\n",
       "      <td>32.0</td>\n",
       "      <td>RHIEN MAIN</td>\n",
       "      <td>DE</td>\n",
       "      <td>NaN</td>\n",
       "      <td>NaN</td>\n",
       "    </tr>\n",
       "    <tr>\n",
       "      <th>2</th>\n",
       "      <td>DEW00035032</td>\n",
       "      <td>1/3/2017</td>\n",
       "      <td>34.0</td>\n",
       "      <td>RHIEN MAIN</td>\n",
       "      <td>DE</td>\n",
       "      <td>NaN</td>\n",
       "      <td>NaN</td>\n",
       "    </tr>\n",
       "    <tr>\n",
       "      <th>3</th>\n",
       "      <td>DEW00035032</td>\n",
       "      <td>1/4/2017</td>\n",
       "      <td>37.0</td>\n",
       "      <td>RHIEN MAIN</td>\n",
       "      <td>DE</td>\n",
       "      <td>NaN</td>\n",
       "      <td>NaN</td>\n",
       "    </tr>\n",
       "    <tr>\n",
       "      <th>4</th>\n",
       "      <td>DEW00035032</td>\n",
       "      <td>1/5/2017</td>\n",
       "      <td>31.0</td>\n",
       "      <td>RHIEN MAIN</td>\n",
       "      <td>DE</td>\n",
       "      <td>NaN</td>\n",
       "      <td>NaN</td>\n",
       "    </tr>\n",
       "  </tbody>\n",
       "</table>\n",
       "</div>"
      ],
      "text/plain": [
       "       STATION      DATE  TAVG        AREA COUNTRY  TMAX  TMIN\n",
       "0  DEW00035032  1/1/2017  26.0  RHIEN MAIN      DE   NaN   NaN\n",
       "1  DEW00035032  1/2/2017  32.0  RHIEN MAIN      DE   NaN   NaN\n",
       "2  DEW00035032  1/3/2017  34.0  RHIEN MAIN      DE   NaN   NaN\n",
       "3  DEW00035032  1/4/2017  37.0  RHIEN MAIN      DE   NaN   NaN\n",
       "4  DEW00035032  1/5/2017  31.0  RHIEN MAIN      DE   NaN   NaN"
      ]
     },
     "execution_count": 17,
     "metadata": {},
     "output_type": "execute_result"
    }
   ],
   "source": [
    "df_complete.head()"
   ]
  },
  {
   "cell_type": "markdown",
   "metadata": {},
   "source": [
    "# Oppgave 16:\n",
    "importerer \"countryContinent.csv\" til en df kalt \"df_country_continent\""
   ]
  },
  {
   "cell_type": "code",
   "execution_count": 18,
   "metadata": {},
   "outputs": [],
   "source": [
    "df_country_continent = pd.read_csv('Datasets/countryContinent.csv', encoding=\"iso_8859_1\")"
   ]
  },
  {
   "cell_type": "markdown",
   "metadata": {},
   "source": [
    "# Oppgave 17:\n",
    "Vi kan se at df_country_continent er strukturert i 9 kolonner. \n",
    "\n",
    "Kolonnene inneholder informasjon om land, som hvilke region de befinner seg i, regions-koden og lands-koden osv. \n",
    "\n",
    "Blant all denne informasjonen er det mye som kan være unyttig når vi skal se på temperaturdata. Det som kan være nyttig å vite derimot er: land, lands-kode, kontinent og region. Fordi denne informasjonen er relevant til temperaturdataen."
   ]
  },
  {
   "cell_type": "code",
   "execution_count": 19,
   "metadata": {},
   "outputs": [
    {
     "data": {
      "text/html": [
       "<div>\n",
       "<style scoped>\n",
       "    .dataframe tbody tr th:only-of-type {\n",
       "        vertical-align: middle;\n",
       "    }\n",
       "\n",
       "    .dataframe tbody tr th {\n",
       "        vertical-align: top;\n",
       "    }\n",
       "\n",
       "    .dataframe thead th {\n",
       "        text-align: right;\n",
       "    }\n",
       "</style>\n",
       "<table border=\"1\" class=\"dataframe\">\n",
       "  <thead>\n",
       "    <tr style=\"text-align: right;\">\n",
       "      <th></th>\n",
       "      <th>country</th>\n",
       "      <th>code_2</th>\n",
       "      <th>code_3</th>\n",
       "      <th>country_code</th>\n",
       "      <th>iso_3166_2</th>\n",
       "      <th>continent</th>\n",
       "      <th>sub_region</th>\n",
       "      <th>region_code</th>\n",
       "      <th>sub_region_code</th>\n",
       "    </tr>\n",
       "  </thead>\n",
       "  <tbody>\n",
       "    <tr>\n",
       "      <th>0</th>\n",
       "      <td>Afghanistan</td>\n",
       "      <td>AF</td>\n",
       "      <td>AFG</td>\n",
       "      <td>4</td>\n",
       "      <td>ISO 3166-2:AF</td>\n",
       "      <td>Asia</td>\n",
       "      <td>Southern Asia</td>\n",
       "      <td>142.0</td>\n",
       "      <td>34.0</td>\n",
       "    </tr>\n",
       "    <tr>\n",
       "      <th>1</th>\n",
       "      <td>Åland Islands</td>\n",
       "      <td>AX</td>\n",
       "      <td>ALA</td>\n",
       "      <td>248</td>\n",
       "      <td>ISO 3166-2:AX</td>\n",
       "      <td>Europe</td>\n",
       "      <td>Northern Europe</td>\n",
       "      <td>150.0</td>\n",
       "      <td>154.0</td>\n",
       "    </tr>\n",
       "    <tr>\n",
       "      <th>2</th>\n",
       "      <td>Albania</td>\n",
       "      <td>AL</td>\n",
       "      <td>ALB</td>\n",
       "      <td>8</td>\n",
       "      <td>ISO 3166-2:AL</td>\n",
       "      <td>Europe</td>\n",
       "      <td>Southern Europe</td>\n",
       "      <td>150.0</td>\n",
       "      <td>39.0</td>\n",
       "    </tr>\n",
       "    <tr>\n",
       "      <th>3</th>\n",
       "      <td>Algeria</td>\n",
       "      <td>DZ</td>\n",
       "      <td>DZA</td>\n",
       "      <td>12</td>\n",
       "      <td>ISO 3166-2:DZ</td>\n",
       "      <td>Africa</td>\n",
       "      <td>Northern Africa</td>\n",
       "      <td>2.0</td>\n",
       "      <td>15.0</td>\n",
       "    </tr>\n",
       "    <tr>\n",
       "      <th>4</th>\n",
       "      <td>American Samoa</td>\n",
       "      <td>AS</td>\n",
       "      <td>ASM</td>\n",
       "      <td>16</td>\n",
       "      <td>ISO 3166-2:AS</td>\n",
       "      <td>Oceania</td>\n",
       "      <td>Polynesia</td>\n",
       "      <td>9.0</td>\n",
       "      <td>61.0</td>\n",
       "    </tr>\n",
       "    <tr>\n",
       "      <th>5</th>\n",
       "      <td>Andorra</td>\n",
       "      <td>AD</td>\n",
       "      <td>AND</td>\n",
       "      <td>20</td>\n",
       "      <td>ISO 3166-2:AD</td>\n",
       "      <td>Europe</td>\n",
       "      <td>Southern Europe</td>\n",
       "      <td>150.0</td>\n",
       "      <td>39.0</td>\n",
       "    </tr>\n",
       "    <tr>\n",
       "      <th>6</th>\n",
       "      <td>Angola</td>\n",
       "      <td>AO</td>\n",
       "      <td>AGO</td>\n",
       "      <td>24</td>\n",
       "      <td>ISO 3166-2:AO</td>\n",
       "      <td>Africa</td>\n",
       "      <td>Middle Africa</td>\n",
       "      <td>2.0</td>\n",
       "      <td>17.0</td>\n",
       "    </tr>\n",
       "    <tr>\n",
       "      <th>7</th>\n",
       "      <td>Anguilla</td>\n",
       "      <td>AI</td>\n",
       "      <td>AIA</td>\n",
       "      <td>660</td>\n",
       "      <td>ISO 3166-2:AI</td>\n",
       "      <td>Americas</td>\n",
       "      <td>Caribbean</td>\n",
       "      <td>19.0</td>\n",
       "      <td>29.0</td>\n",
       "    </tr>\n",
       "    <tr>\n",
       "      <th>8</th>\n",
       "      <td>Antarctica</td>\n",
       "      <td>AQ</td>\n",
       "      <td>ATA</td>\n",
       "      <td>10</td>\n",
       "      <td>ISO 3166-2:AQ</td>\n",
       "      <td>NaN</td>\n",
       "      <td>NaN</td>\n",
       "      <td>NaN</td>\n",
       "      <td>NaN</td>\n",
       "    </tr>\n",
       "    <tr>\n",
       "      <th>9</th>\n",
       "      <td>Antigua and Barbuda</td>\n",
       "      <td>AG</td>\n",
       "      <td>ATG</td>\n",
       "      <td>28</td>\n",
       "      <td>ISO 3166-2:AG</td>\n",
       "      <td>Americas</td>\n",
       "      <td>Caribbean</td>\n",
       "      <td>19.0</td>\n",
       "      <td>29.0</td>\n",
       "    </tr>\n",
       "  </tbody>\n",
       "</table>\n",
       "</div>"
      ],
      "text/plain": [
       "               country code_2 code_3  country_code     iso_3166_2 continent  \\\n",
       "0          Afghanistan     AF    AFG             4  ISO 3166-2:AF      Asia   \n",
       "1        Åland Islands     AX    ALA           248  ISO 3166-2:AX    Europe   \n",
       "2              Albania     AL    ALB             8  ISO 3166-2:AL    Europe   \n",
       "3              Algeria     DZ    DZA            12  ISO 3166-2:DZ    Africa   \n",
       "4       American Samoa     AS    ASM            16  ISO 3166-2:AS   Oceania   \n",
       "5              Andorra     AD    AND            20  ISO 3166-2:AD    Europe   \n",
       "6               Angola     AO    AGO            24  ISO 3166-2:AO    Africa   \n",
       "7             Anguilla     AI    AIA           660  ISO 3166-2:AI  Americas   \n",
       "8           Antarctica     AQ    ATA            10  ISO 3166-2:AQ       NaN   \n",
       "9  Antigua and Barbuda     AG    ATG            28  ISO 3166-2:AG  Americas   \n",
       "\n",
       "        sub_region  region_code  sub_region_code  \n",
       "0    Southern Asia        142.0             34.0  \n",
       "1  Northern Europe        150.0            154.0  \n",
       "2  Southern Europe        150.0             39.0  \n",
       "3  Northern Africa          2.0             15.0  \n",
       "4        Polynesia          9.0             61.0  \n",
       "5  Southern Europe        150.0             39.0  \n",
       "6    Middle Africa          2.0             17.0  \n",
       "7        Caribbean         19.0             29.0  \n",
       "8              NaN          NaN              NaN  \n",
       "9        Caribbean         19.0             29.0  "
      ]
     },
     "execution_count": 19,
     "metadata": {},
     "output_type": "execute_result"
    }
   ],
   "source": [
    "df_country_continent.head(10)"
   ]
  },
  {
   "cell_type": "markdown",
   "metadata": {},
   "source": [
    "# Oppgave 18:\n",
    "Bruker \"merge\" funksjonen til å slå sammen \"df_complete\" og \"df_country_continent\" til en df \"df_complete_cont\".\n",
    "\n",
    "Vi slår de sammen med hensyn på kolonnene \"COUNTRY\" (fra \"df_complete\") og \"code_2\" (fra \"df_country_continent\"), fordi disse kolonnene samsvarer.\n"
   ]
  },
  {
   "cell_type": "code",
   "execution_count": 20,
   "metadata": {},
   "outputs": [],
   "source": [
    "df_complete_cont = pd.merge(df_complete, df_country_continent, left_on=\"COUNTRY\", right_on=\"code_2\")"
   ]
  },
  {
   "cell_type": "markdown",
   "metadata": {},
   "source": [
    "# Oppgave 19:\n",
    "Har definert en funksjon \"trinn19()\" i spyder-filen som dropper kolonnen \"code_2\", og gir nye navn til de forespurte kolonnene. "
   ]
  },
  {
   "cell_type": "code",
   "execution_count": 21,
   "metadata": {},
   "outputs": [],
   "source": [
    "df_complete_cont = trinn19(df_complete_cont)"
   ]
  },
  {
   "cell_type": "markdown",
   "metadata": {},
   "source": [
    "# Oppgave 21:\n",
    "Vi har definert en funksjon i spyder-filen \"column_values()\" som finner, sorterer og returnerer alle unike verdier fra en kolonne i en dataframe. \n",
    "\n",
    "Her har vi tatt i bruk de innebygde pandas funksjonene \"sort_values()\" og \"unique()\" for å kun ta med unike navn på land og for å sortere listen alfabetisk.\n",
    "\n",
    "Alternativt kunne man enkelt ha definert en funksjon for dette på egenhånd også på måten vist under. Her definerer vi først en tom liste \"unike_land\", og går så gjennom hvert land i kolonnen \"Country\" i \"df_complete_cont\". Om landet ikke allerede finnes i listen \"unike_land\" så adder vi det til listen. Deretter bruker vi den innebygde python-funksjonen \"sorted()\" til å sortere listen alfabetisk:\n",
    "\n",
    "\n",
    "\n",
    "unike_land = []\n",
    "\n",
    "for land in list(df_complete_cont[\"Country\"]):\n",
    "    \n",
    "    if land not in unike_land:\n",
    "        \n",
    "        unike_land.append(land)\n",
    "\n",
    "unike_land = sorted(unike_land)\n",
    "\n"
   ]
  },
  {
   "cell_type": "code",
   "execution_count": 22,
   "metadata": {},
   "outputs": [],
   "source": [
    "countries_in_df = column_values(df_complete_cont, \"Country\")\n",
    "continents_in_df = column_values(df_complete_cont, \"Continent\")"
   ]
  },
  {
   "cell_type": "markdown",
   "metadata": {},
   "source": [
    "# Oppgave 22:\n",
    "Vi har definert en funksjon \"c_to_f()\" i spyder som konverterer grader i celcius til grader i fahrenheit. Vi bruker den til å konvertere alle verdiene i kolonnen \"TAVG\" til fahrenheit.\n",
    "\n",
    "Konvertere en blanding av verdier i Celsius og Fahrenheit til Fahrenheit: \n",
    "Først og fremst måtte man sjekket om verdiene var målt i Celcius eller i Fahrenheit. Vi vet at alle temperaturer over 56.7 grader må være målt i fahrenheit, med mindre de har satt en ny varmerekord. Videre så kunne man sammenlignet hver temperatur med gjennomsnittstemperaturen "
   ]
  },
  {
   "cell_type": "code",
   "execution_count": 26,
   "metadata": {},
   "outputs": [],
   "source": [
    "df_complete_cont[\"TAVG\"] = c_to_f(df_complete_cont[\"TAVG\"])"
   ]
  },
  {
   "cell_type": "code",
   "execution_count": 29,
   "metadata": {},
   "outputs": [
    {
     "name": "stdout",
     "output_type": "stream",
     "text": [
      "-29.2\n"
     ]
    }
   ],
   "source": [
    "print(df_complete_cont[\"TAVG\"].min())"
   ]
  },
  {
   "cell_type": "code",
   "execution_count": 1,
   "metadata": {},
   "outputs": [
    {
     "data": {
      "text/plain": [
       "'C:\\\\Users\\\\fredr\\\\Documents\\\\RPi\\\\prosjekt'"
      ]
     },
     "execution_count": 1,
     "metadata": {},
     "output_type": "execute_result"
    }
   ],
   "source": [
    "import os\n",
    "os.getcwd()"
   ]
  },
  {
   "cell_type": "code",
   "execution_count": null,
   "metadata": {},
   "outputs": [],
   "source": []
  }
 ],
 "metadata": {
  "kernelspec": {
   "display_name": "Python 3",
   "language": "python",
   "name": "python3"
  },
  "language_info": {
   "codemirror_mode": {
    "name": "ipython",
    "version": 3
   },
   "file_extension": ".py",
   "mimetype": "text/x-python",
   "name": "python",
   "nbconvert_exporter": "python",
   "pygments_lexer": "ipython3",
   "version": "3.7.6"
  }
 },
 "nbformat": 4,
 "nbformat_minor": 4
}
